{
 "cells": [
  {
   "cell_type": "markdown",
   "metadata": {},
   "source": [
    "# What is the position of this point in the camera coordinate system?\n",
    "\n",
    "Imagine a situation in which a camera mounted on a car sees a point $O$ on a signpost. The location of this point in world coordinate system is $O = \\begin{bmatrix} −0.5 \\\\ 1.5 \\\\9 \\end{bmatrix}$ meters. The location of the center of the world coordinate system relatively to the camera optical center in camera frame coordinates is defined by the translation vector $ t= \\begin{bmatrix}1 \\\\ 2\\\\ 10 \\end{bmatrix}$ meters and $180^\\circ$ rotation around the $X_C$ axis. The camera intrinsic parameter matrix is $K=\\begin{bmatrix} 640 & 0 & 640 \\\\ 0 & 480 & 480 \\\\ 0 & 0 & 1 \\end{bmatrix}$ and the image resolution is $1280 \\times 960$ pixels. You can check out the image below to help you visualize the problem.\n",
    "\n",
    "\n",
    "What is the position of this point in the camera coordinate system? \n",
    "\n",
    "![coordinates](./coordinate%20excersice.png)"
   ]
  },
  {
   "cell_type": "markdown",
   "metadata": {},
   "source": [
    "![rotations](./rotations.svg)"
   ]
  },
  {
   "cell_type": "code",
   "execution_count": 29,
   "metadata": {},
   "outputs": [
    {
     "name": "stdout",
     "output_type": "stream",
     "text": [
      "[960. 720.   1.]\n",
      "[0.5 0.5 1. ]\n"
     ]
    }
   ],
   "source": [
    "import numpy as np\n",
    "\n",
    "o = np.array([-0.5,1.5,9.0])\n",
    "t = np.array([1,2,10])\n",
    "\n",
    "k = np.array([[640,0,640],[0,480,480],[0,0,1]])\n",
    "\n",
    "def rx(theta):\n",
    "    angle = np.deg2rad(theta)\n",
    "    return np.array([[1,0,0],[0,np.cos(angle),-np.sin(angle)],[0,np.sin(angle),np.cos(angle)]])\n",
    "\n",
    "def world_pixel(intrinsic_k:np.ndarray, rotation_matrix:np.ndarray, translation_vector:np.ndarray,o_world:np.ndarray):\n",
    "    ow_ = np.hstack((o_world,1))\n",
    "    rt = np.hstack([rotation_matrix,translation_vector.reshape(translation_vector.shape[0],1)])\n",
    "    return intrinsic_k @ rt @ ow_\n",
    "\n",
    "def world_camera(rotation_matrix:np.ndarray, translation_vector:np.ndarray,o_world:np.ndarray):\n",
    "    ow_ = np.hstack((o_world,1))\n",
    "    rt = np.hstack([rotation_matrix,translation_vector.reshape(translation_vector.shape[0],1)])\n",
    "    return rt @ ow_\n",
    "\n",
    "print(np.round(world_pixel(k, rx(-180),t,o),3))\n",
    "print(np.round(world_camera(rx(-180),t,o),3))"
   ]
  }
 ],
 "metadata": {
  "kernelspec": {
   "display_name": "Python 3",
   "language": "python",
   "name": "python3"
  },
  "language_info": {
   "codemirror_mode": {
    "name": "ipython",
    "version": 3
   },
   "file_extension": ".py",
   "mimetype": "text/x-python",
   "name": "python",
   "nbconvert_exporter": "python",
   "pygments_lexer": "ipython3",
   "version": "3.11.0"
  }
 },
 "nbformat": 4,
 "nbformat_minor": 2
}
