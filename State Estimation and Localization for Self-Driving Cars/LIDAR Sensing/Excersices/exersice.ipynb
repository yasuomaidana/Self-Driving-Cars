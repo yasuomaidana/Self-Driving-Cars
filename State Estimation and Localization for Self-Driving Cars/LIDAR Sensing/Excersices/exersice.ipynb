{
 "cells": [
  {
   "cell_type": "markdown",
   "metadata": {},
   "source": [
    "A single 3D LIDAR reading consists of elevation, azimuth and range measurements \n",
    "$(\\epsilon,\\alpha,r)=(5^\\circ,10^\\circ,4 m)$ . Assuming that the measurements are noiseless, calculate the position of this point in the Cartesian sensor frame. Note that the elevation and azimuth angles are given in degrees (for convenience) - you will need to convert these values to radians for use with most trigonometric functions."
   ]
  },
  {
   "cell_type": "code",
   "execution_count": 1,
   "metadata": {},
   "outputs": [
    {
     "data": {
      "text/plain": [
       "(3.9242410487616275, 0.6919495757003578, 0.34862297099063266)"
      ]
     },
     "execution_count": 1,
     "metadata": {},
     "output_type": "execute_result"
    }
   ],
   "source": [
    "from sensor_models.transformers import inverse_transformation\n",
    "from numpy import deg2rad\n",
    "inverse_transformation(4,deg2rad(10),deg2rad(5))"
   ]
  },
  {
   "cell_type": "markdown",
   "metadata": {},
   "source": [
    "A 3D LIDAR unit is scanning a surface that is approximately planar, returning range, elevation and azimuth measurements. In order to estimate the equation of the surface in parametric form (as a plane), we need to find a set of parameters that best fit the measurements. \n",
    "\n",
    "Implement the sph_to_cat and estimate_params functions, which transform LIDAR measurements into a Cartesian coordinate frame and estimate the plane parameters, respectively. You may assume that measurement noise is negligible. The code comments provide more information on the format of the arguments to each function."
   ]
  },
  {
   "cell_type": "code",
   "execution_count": 25,
   "metadata": {},
   "outputs": [
    {
     "name": "stdout",
     "output_type": "stream",
     "text": [
      "[3.92424105 0.3433266  0.69459271]\n",
      "[0.17807234 0.17364818 0.        ]\n"
     ]
    }
   ],
   "source": [
    "from numpy import *\n",
    "\n",
    "def sph_to_cart(epsilon, alpha, r):\n",
    "  \"\"\"\n",
    "  Transform sensor readings to Cartesian coordinates in the sensor\n",
    "  frame. The values of epsilon and alpha are given in radians, while \n",
    "  r is in metres. Epsilon is the elevation angle and alpha is the\n",
    "  azimuth angle (i.e., in the x,y plane).\n",
    "  \"\"\"\n",
    "  p = zeros(3)  # Position vector \n",
    "  \n",
    "  # Your code here\n",
    "  p[0] = r * cos(alpha) * cos(epsilon)\n",
    "  p[1] = r * sin(alpha) * cos(epsilon)\n",
    "  p[2] = r * sin(epsilon)\n",
    "  return p\n",
    "  \n",
    "def estimate_params(P):\n",
    "  \"\"\"\n",
    "  Estimate parameters from sensor readings in the Cartesian frame.\n",
    "  Each row in the P matrix contains a single 3D point measurement;\n",
    "  the matrix P has size n x 3 (for n points). The format is:\n",
    "  \n",
    "  P = [[x1, y1, z1],\n",
    "       [x2, x2, z2], ...]\n",
    "       \n",
    "  where all coordinate values are in metres. Three parameters are\n",
    "  required to fit the plane, a, b, and c, according to the equation\n",
    "  \n",
    "  z = a + bx + cy\n",
    "  \n",
    "  The function should return the parameters as a NumPy array of size\n",
    "  three, in the order [a, b, c].\n",
    "  \"\"\"\n",
    "  param_est = zeros(3)\n",
    "  \n",
    "  # Your code here\n",
    "  P = array(P)\n",
    "  \n",
    "  H = insert(P[:,:-1], 0, 1, axis=1)\n",
    "  y = P[:,-1]\n",
    "  \n",
    "  return linalg.inv(H.T.dot(H)).dot(H.T).dot(y)\n",
    "\n",
    "print(sph_to_cart(deg2rad(10),deg2rad(5),4))\n",
    "print(estimate_params([sph_to_cart(deg2rad(10),deg2rad(5),4)]))"
   ]
  }
 ],
 "metadata": {
  "kernelspec": {
   "display_name": ".venv",
   "language": "python",
   "name": "python3"
  },
  "language_info": {
   "codemirror_mode": {
    "name": "ipython",
    "version": 3
   },
   "file_extension": ".py",
   "mimetype": "text/x-python",
   "name": "python",
   "nbconvert_exporter": "python",
   "pygments_lexer": "ipython3",
   "version": "3.11.0"
  }
 },
 "nbformat": 4,
 "nbformat_minor": 2
}
