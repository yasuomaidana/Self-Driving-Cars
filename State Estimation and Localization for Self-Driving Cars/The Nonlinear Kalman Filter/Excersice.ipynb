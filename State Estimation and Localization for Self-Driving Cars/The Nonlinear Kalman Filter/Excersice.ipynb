{
 "cells": [
  {
   "cell_type": "code",
   "execution_count": 1,
   "metadata": {},
   "outputs": [],
   "source": [
    "import numpy as np"
   ]
  },
  {
   "cell_type": "code",
   "execution_count": 2,
   "metadata": {},
   "outputs": [],
   "source": [
    "dt = 0.5\n",
    "u_k = -2\n",
    "S = 20\n",
    "yk = np.pi/6\n",
    "D = 40\n",
    "\n",
    "Fk = np.array([[1.0,dt],[0.0,1.0]])\n",
    "Lk = np.eye(2)\n",
    "Gk = np.array([0.0,dt]).reshape((2,1))\n",
    "Mk = 1"
   ]
  },
  {
   "cell_type": "code",
   "execution_count": 3,
   "metadata": {},
   "outputs": [],
   "source": [
    "xh_k = np.array([0.0,5.0]).reshape(2,1)\n",
    "Ph_k = np.array([[0.01,0],[0,1.0]])\n",
    "v_k= np.array([0,0.01]).reshape(2,1)\n",
    "R_k = 0.01\n",
    "w_k= np.zeros((2,1))\n",
    "Q_k = np.eye(2)*0.1\n",
    "H_k= lambda pk: np.array([S/((D-pk[0].item())**2+S**2),0])\n",
    "h_pk_vk = lambda pk,vk: np.arctan(S/(D-pk[0]).item()) + vk"
   ]
  },
  {
   "cell_type": "code",
   "execution_count": 4,
   "metadata": {},
   "outputs": [
    {
     "name": "stdout",
     "output_type": "stream",
     "text": [
      "Linearized model\n",
      "H_k [0.011 0.   ]\n",
      "Prediction\n",
      "xc_k\n",
      " [[2.5]\n",
      " [4. ]]\n",
      "Pc_k\n",
      " [[0.36 0.5 ]\n",
      " [0.5  1.1 ]]\n",
      "Optimal gain\n",
      "K_k\n",
      " [0.4  0.55]\n",
      "Correction\n",
      "xh_k\n",
      " [[2.51]\n",
      " [4.01]]\n",
      "Ph_k\n",
      " [[0.36 0.49]\n",
      " [0.5  1.09]]\n"
     ]
    }
   ],
   "source": [
    "#Prediction\n",
    "xc_k:np.ndarray = Fk.dot(xh_k) + Gk * u_k\n",
    "Pc_k = Fk.dot(Ph_k).dot(Fk.T) + Lk.dot(Q_k).dot(Lk.T)\n",
    "\n",
    "#Optimal gain\n",
    "K_k = Pc_k.dot((H_k(xc_k)).T)/(H_k(xc_k).dot(Pc_k).dot(H_k(xc_k).T)+Mk*R_k*Mk)\n",
    "\n",
    "#Correction\n",
    "xh_k = xc_k + K_k.dot(np.array([yk-h_pk_vk(xc_k,0),0]))\n",
    "Ph_k = (np.eye(2)-K_k.dot(H_k(xc_k))).dot(Pc_k)\n",
    "\n",
    "print(\"Linearized model\")\n",
    "print(\"H_k\",np.round(H_k(xc_k),3))\n",
    "\n",
    "print(\"Prediction\")\n",
    "print(\"xc_k\\n\",xc_k)\n",
    "print(\"Pc_k\\n\",Pc_k)\n",
    "\n",
    "print(\"Optimal gain\")\n",
    "print(\"K_k\\n\",np.round(K_k,2))\n",
    "\n",
    "print(\"Correction\")\n",
    "print(\"xh_k\\n\",np.round(xh_k,2))\n",
    "print(\"Ph_k\\n\",np.round(Ph_k,2))"
   ]
  }
 ],
 "metadata": {
  "kernelspec": {
   "display_name": "venv",
   "language": "python",
   "name": "python3"
  },
  "language_info": {
   "codemirror_mode": {
    "name": "ipython",
    "version": 3
   },
   "file_extension": ".py",
   "mimetype": "text/x-python",
   "name": "python",
   "nbconvert_exporter": "python",
   "pygments_lexer": "ipython3",
   "version": "3.11.0"
  }
 },
 "nbformat": 4,
 "nbformat_minor": 2
}
