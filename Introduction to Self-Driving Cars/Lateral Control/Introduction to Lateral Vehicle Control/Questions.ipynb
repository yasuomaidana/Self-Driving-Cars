{
 "cells": [
  {
   "cell_type": "markdown",
   "metadata": {},
   "source": [
    "Compute the radius from the instantaneous center of rotation to the center of the vehicle rear axle (in m)\n",
    "required for an autonomous vehicle to follow the desired path based on the information below.\n",
    "\n",
    "The lookahead distance is 10 m; the car length is 4 m; the angle between the vehicle's body heading and the\n",
    "lookahead line is $30^{\\circ}$. Your answer should be an integer."
   ]
  },
  {
   "cell_type": "code",
   "execution_count": 4,
   "metadata": {},
   "outputs": [
    {
     "name": "stdout",
     "output_type": "stream",
     "text": [
      "R:10\n"
     ]
    }
   ],
   "source": [
    "import numpy as np\n",
    "ld = 10\n",
    "alpha = 30\n",
    "\n",
    "R = ld/(2*np.sin(np.deg2rad(alpha)))\n",
    "print(f\"R:{round(R)}\")"
   ]
  },
  {
   "cell_type": "markdown",
   "metadata": {},
   "source": [
    "Compute the steering angle (in degrees) required for an autonomous vehicle with pure pursuit lateral control\n",
    "for following the desired path based on the information below.\n",
    "\n",
    "The lookahead distance is IS m; the car length is 5 m; the angle between the vehicle's body heading and the\n",
    "lookahead line is $60^\\circ$."
   ]
  },
  {
   "cell_type": "code",
   "execution_count": 8,
   "metadata": {},
   "outputs": [
    {
     "name": "stdout",
     "output_type": "stream",
     "text": [
      "delta: 29.999999999999996\n"
     ]
    }
   ],
   "source": [
    "ld = 15\n",
    "alpha = 60\n",
    "L = 5\n",
    "\n",
    "delta = np.rad2deg(np.arctan(2*L*np.sin(np.deg2rad(alpha))/ld))\n",
    "print(f\"delta: {delta}\")"
   ]
  },
  {
   "cell_type": "markdown",
   "metadata": {},
   "source": [
    "What is the value of the crosstrack error, governed by the ODE $e'(t) = -ke(t)$, at $t = 2$\n",
    "given that $e(0) = 4$ and k =1"
   ]
  },
  {
   "cell_type": "markdown",
   "metadata": {},
   "source": [
    "$e(t) = \\frac{c}{e^{kt}}$"
   ]
  },
  {
   "cell_type": "code",
   "execution_count": 7,
   "metadata": {},
   "outputs": [
    {
     "name": "stdout",
     "output_type": "stream",
     "text": [
      "0.5413411329464508\n"
     ]
    }
   ],
   "source": [
    "c = 4\n",
    "\n",
    "print(4*np.exp(-2))"
   ]
  }
 ],
 "metadata": {
  "kernelspec": {
   "display_name": "venv",
   "language": "python",
   "name": "python3"
  },
  "language_info": {
   "codemirror_mode": {
    "name": "ipython",
    "version": 3
   },
   "file_extension": ".py",
   "mimetype": "text/x-python",
   "name": "python",
   "nbconvert_exporter": "python",
   "pygments_lexer": "ipython3",
   "version": "3.11.0"
  }
 },
 "nbformat": 4,
 "nbformat_minor": 2
}
