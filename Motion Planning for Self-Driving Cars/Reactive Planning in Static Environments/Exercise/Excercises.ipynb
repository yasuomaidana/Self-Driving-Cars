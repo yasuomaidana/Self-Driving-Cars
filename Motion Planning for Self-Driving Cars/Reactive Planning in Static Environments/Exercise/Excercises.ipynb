{
 "cells": [
  {
   "cell_type": "code",
   "execution_count": 18,
   "metadata": {},
   "outputs": [],
   "source": [
    "import numpy as np\n",
    "from numpy import cos,sin, pi,sqrt, tan, ndarray, array, zeros, abs\n",
    "import matplotlib.pyplot as plt"
   ]
  },
  {
   "cell_type": "markdown",
   "metadata": {},
   "source": [
    "Suppose the ego vehicle is currently at the origin, $(0.0, 0.0, 0.0)$, and one of the points in its footprint is at $(0.5, 0.5)$. One point along the ego vehicle's path is $(3.0, 2.0, \\frac{\\pi}4)$. After performing rotation and translation on this footprint point relative to this path point, what is the footprint point's corresponding position?"
   ]
  },
  {
   "cell_type": "code",
   "execution_count": 9,
   "metadata": {},
   "outputs": [
    {
     "data": {
      "text/plain": [
       "array([3.        , 2.70710678])"
      ]
     },
     "execution_count": 9,
     "metadata": {},
     "output_type": "execute_result"
    }
   ],
   "source": [
    "def rotate(angle:float, point:ndarray)->ndarray:\n",
    "    rotation_matrix = array([[cos(angle),-sin(angle)],[sin(angle),cos(angle)]])\n",
    "    return rotation_matrix@point\n",
    "\n",
    "ego_position = zeros(3)\n",
    "foot_print = array([0.5,0.5])\n",
    "point_along_ego_path = array([3.0,2.0, pi/4])\n",
    "\n",
    "rotate(point_along_ego_path[2],foot_print) + point_along_ego_path[0:2]"
   ]
  },
  {
   "cell_type": "code",
   "execution_count": 16,
   "metadata": {},
   "outputs": [
    {
     "data": {
      "text/plain": [
       "Text(3.0, 2.7071067811865475, 'R+T\\nfoot print')"
      ]
     },
     "execution_count": 16,
     "metadata": {},
     "output_type": "execute_result"
    },
    {
     "data": {
      "image/png": "[encoded data removed]",
      "text/plain": [
       "<Figure size 640x480 with 1 Axes>"
      ]
     },
     "metadata": {},
     "output_type": "display_data"
    }
   ],
   "source": [
    "plt.scatter(*foot_print)\n",
    "plt.text(*foot_print,\"O:\\nfoot print\")\n",
    "plt.scatter(*rotate(point_along_ego_path[2],foot_print))\n",
    "plt.text(*rotate(point_along_ego_path[2],foot_print),\"R\\nfoot print\")\n",
    "plt.scatter(*(rotate(point_along_ego_path[2],foot_print) + point_along_ego_path[0:2]))\n",
    "plt.text(*(rotate(point_along_ego_path[2],foot_print) + point_along_ego_path[0:2]),\"R+T\\nfoot print\")"
   ]
  },
  {
   "cell_type": "markdown",
   "metadata": {},
   "source": [
    "Suppose we have a bicycle model travelling at constant velocity $v = 1.0 \\frac{m}s$, and length $L = 1.0 m$. If the time between planning cycles is $0.1 s$, the previous steering angle $\\delta_1$ was $0.0 rad$, and the current steering angle is $0.5 rad$, what is the approximate angular acceleration?"
   ]
  },
  {
   "cell_type": "code",
   "execution_count": 19,
   "metadata": {},
   "outputs": [
    {
     "name": "stdout",
     "output_type": "stream",
     "text": [
      "4.459678177583399\n"
     ]
    }
   ],
   "source": [
    "def omega(v,l,delta):\n",
    "    return v*tan(delta)/l\n",
    "def alpha_mag(theta2, theta1, deltaT):\n",
    "    return abs((theta2-theta1)/delta_T)\n",
    "v = 1\n",
    "l = 1\n",
    "delta_T = 0.1\n",
    "delta_1 = 0\n",
    "delta_i = 0.5\n",
    "teta_1 = omega(v,l,delta_T)\n",
    "teta_2 = omega(v,l,delta_i)\n",
    "print(alpha_mag(teta_2,teta_1,delta_T))"
   ]
  },
  {
   "cell_type": "markdown",
   "metadata": {},
   "source": [
    "Suppose we have a bicycle model travelling at constant velocity $v = 1.0 \\frac{m}s$, and length $L = 1.0 m$. If the time between planning cycles is $0.1 s$, and the previous steering angle $\\delta_1$ was $0.0 rad$. If the maximum angular acceleration is $2.5 \\frac{rad}{s^2}$, can a path with $\\delta_2 = 0.2 rad$ be selected this iteration?"
   ]
  },
  {
   "cell_type": "code",
   "execution_count": 20,
   "metadata": {},
   "outputs": [
    {
     "data": {
      "text/plain": [
       "True"
      ]
     },
     "execution_count": 20,
     "metadata": {},
     "output_type": "execute_result"
    }
   ],
   "source": [
    "def valid_deltas(delta1,delta2,acc_max,l,delta_T,v):\n",
    "    return abs(tan(delta2)-tan(delta1)) <= acc_max*l*delta_T/v\n",
    "valid_deltas(0,0.2,2.5,1,0.1,1)"
   ]
  },
  {
   "cell_type": "markdown",
   "metadata": {},
   "source": [
    "Suppose we have a bicycle model travelling at constant steering angle $\\delta = 0.0 rad$, and length $L = 1.0 m$. If the time between planning cycles is $0.1 s$, the previous velocity was $20.0 \\frac{m}s$, and the current velocity is $20.5 \\frac{m}s$, what is the approximate linear acceleration?"
   ]
  },
  {
   "cell_type": "code",
   "execution_count": 21,
   "metadata": {},
   "outputs": [
    {
     "name": "stdout",
     "output_type": "stream",
     "text": [
      "5.0\n"
     ]
    }
   ],
   "source": [
    "acc = (20.5-20.0)/0.1\n",
    "print(acc)"
   ]
  }
 ],
 "metadata": {
  "kernelspec": {
   "display_name": ".venv",
   "language": "python",
   "name": "python3"
  },
  "language_info": {
   "codemirror_mode": {
    "name": "ipython",
    "version": 3
   },
   "file_extension": ".py",
   "mimetype": "text/x-python",
   "name": "python",
   "nbconvert_exporter": "python",
   "pygments_lexer": "ipython3",
   "version": "3.11.0"
  }
 },
 "nbformat": 4,
 "nbformat_minor": 2
}
