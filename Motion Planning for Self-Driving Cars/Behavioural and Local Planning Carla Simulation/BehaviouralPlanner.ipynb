{
 "cells": [
  {
   "cell_type": "code",
   "execution_count": 1,
   "metadata": {},
   "outputs": [],
   "source": [
    "from behavioural_planner import BehaviouralPlanner, get_closest_index\n",
    "from numpy import linspace, ones_like, vstack, array\n",
    "from numpy.linalg import norm\n",
    "import matplotlib.pyplot as plt\n",
    "a = BehaviouralPlanner(None,None,None)"
   ]
  },
  {
   "cell_type": "code",
   "execution_count": 2,
   "metadata": {},
   "outputs": [],
   "source": [
    "x = linspace(0,10,10)\n",
    "y = x**2 \n",
    "v = ones_like(y)\n"
   ]
  },
  {
   "cell_type": "code",
   "execution_count": 3,
   "metadata": {},
   "outputs": [
    {
     "data": {
      "text/plain": [
       "<matplotlib.collections.PathCollection at 0x1947fa37cc0>"
      ]
     },
     "execution_count": 3,
     "metadata": {},
     "output_type": "execute_result"
    },
    {
     "data": {
      "image/png": "[encoded data removed]",
      "text/plain": [
       "<Figure size 432x288 with 1 Axes>"
      ]
     },
     "metadata": {
      "needs_background": "light"
     },
     "output_type": "display_data"
    }
   ],
   "source": [
    "wp = vstack((x,y,v)).T\n",
    "es = array([10,98,10])\n",
    "plt.plot(x,y)\n",
    "plt.scatter(es[0],es[1])"
   ]
  },
  {
   "cell_type": "code",
   "execution_count": 4,
   "metadata": {},
   "outputs": [
    {
     "data": {
      "text/plain": [
       "array([[  0.        ,   0.        ],\n",
       "       [  1.11111111,   1.2345679 ],\n",
       "       [  2.22222222,   4.9382716 ],\n",
       "       [  3.33333333,  11.11111111],\n",
       "       [  4.44444444,  19.75308642],\n",
       "       [  5.55555556,  30.86419753],\n",
       "       [  6.66666667,  44.44444444],\n",
       "       [  7.77777778,  60.49382716],\n",
       "       [  8.88888889,  79.01234568],\n",
       "       [ 10.        , 100.        ]])"
      ]
     },
     "execution_count": 4,
     "metadata": {},
     "output_type": "execute_result"
    }
   ],
   "source": [
    "wp[:,0:2]"
   ]
  },
  {
   "cell_type": "code",
   "execution_count": 5,
   "metadata": {},
   "outputs": [
    {
     "name": "stdout",
     "output_type": "stream",
     "text": [
      "[(0, 97.40357688567425), (1, 97.28077327643312), (2, 97.41663102366043)]\n",
      "[98.50888285 97.17284186 93.3861827  87.14426807 78.44388875 67.28275455\n",
      " 53.65918973 37.57194795 19.02013629  2.        ]\n"
     ]
    },
    {
     "data": {
      "text/plain": [
       "(2.0, 9)"
      ]
     },
     "execution_count": 5,
     "metadata": {},
     "output_type": "execute_result"
    }
   ],
   "source": [
    "print(list(enumerate([norm(es[0:2]-wpi[0:2]) for wpi in wp.T])))\n",
    "print(norm(es[0:2] - wp[:,0:2], axis=1))\n",
    "get_closest_index(wp,es)"
   ]
  }
 ],
 "metadata": {
  "kernelspec": {
   "display_name": "Self_Driving_Cars",
   "language": "python",
   "name": "python3"
  },
  "language_info": {
   "codemirror_mode": {
    "name": "ipython",
    "version": 3
   },
   "file_extension": ".py",
   "mimetype": "text/x-python",
   "name": "python",
   "nbconvert_exporter": "python",
   "pygments_lexer": "ipython3",
   "version": "3.6.15"
  }
 },
 "nbformat": 4,
 "nbformat_minor": 2
}
